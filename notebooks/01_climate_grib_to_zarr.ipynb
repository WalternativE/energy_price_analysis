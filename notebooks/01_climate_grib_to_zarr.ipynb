{
 "cells": [
  {
   "cell_type": "code",
   "execution_count": 2,
   "id": "c03f6bfb-c327-4d02-a49f-67478b8b3c2a",
   "metadata": {},
   "outputs": [
    {
     "name": "stdout",
     "output_type": "stream",
     "text": [
      "Requirement already satisfied: python-dotenv in /srv/conda/envs/notebook/lib/python3.9/site-packages (0.19.2)\n"
     ]
    }
   ],
   "source": [
    "import sys\n",
    "!{sys.executable} -m pip install python-dotenv"
   ]
  },
  {
   "cell_type": "code",
   "execution_count": 4,
   "id": "af7ad639-4f45-4bbb-b2f9-919e985ea88b",
   "metadata": {},
   "outputs": [],
   "source": [
    "from dotenv import dotenv_values\n",
    "\n",
    "config = dotenv_values(\"../.env\")"
   ]
  },
  {
   "cell_type": "code",
   "execution_count": 7,
   "id": "6ab7a9b9-3c63-4856-a22c-ace40828f23d",
   "metadata": {},
   "outputs": [],
   "source": [
    "import xarray as xr\n",
    "import matplotlib as plt\n",
    "import fsspec\n",
    "import s3fs"
   ]
  },
  {
   "cell_type": "code",
   "execution_count": 8,
   "id": "c2319c9d-cc47-4c17-86ee-83e3dcbd58fe",
   "metadata": {},
   "outputs": [],
   "source": [
    "sfs = s3fs.S3FileSystem(\n",
    "    anon=False,\n",
    "    key=\"gregor\",\n",
    "    secret=config[\"fue_s3_key\"],\n",
    "    client_kwargs={\n",
    "        \"endpoint_url\": \"http://s3.fuecluster.hakom.at:9000\",\n",
    "    }\n",
    ")\n",
    "openfile = sfs.open(\"energy-market-visual-exploration/era5_land_hourly_2020_2021.grib\", mode=\"rb\") "
   ]
  },
  {
   "cell_type": "code",
   "execution_count": null,
   "id": "b9ce4a68-9f57-4bc9-a149-cea113e14b8f",
   "metadata": {},
   "outputs": [],
   "source": [
    "ds = xr.open_dataset(openfile, engine=\"cfgrib\")"
   ]
  },
  {
   "cell_type": "code",
   "execution_count": null,
   "id": "612b3a66-15a0-490e-a188-89358106f1d2",
   "metadata": {},
   "outputs": [],
   "source": []
  }
 ],
 "metadata": {
  "kernelspec": {
   "display_name": "Python 3 (ipykernel)",
   "language": "python",
   "name": "python3"
  },
  "language_info": {
   "codemirror_mode": {
    "name": "ipython",
    "version": 3
   },
   "file_extension": ".py",
   "mimetype": "text/x-python",
   "name": "python",
   "nbconvert_exporter": "python",
   "pygments_lexer": "ipython3",
   "version": "3.9.7"
  }
 },
 "nbformat": 4,
 "nbformat_minor": 5
}
