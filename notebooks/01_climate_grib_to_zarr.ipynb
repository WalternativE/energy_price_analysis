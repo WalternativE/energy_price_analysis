{
 "cells": [
  {
   "cell_type": "code",
   "execution_count": 2,
   "id": "c03f6bfb-c327-4d02-a49f-67478b8b3c2a",
   "metadata": {},
   "outputs": [
    {
     "name": "stdout",
     "output_type": "stream",
     "text": [
      "Requirement already satisfied: python-dotenv in /srv/conda/envs/notebook/lib/python3.9/site-packages (0.19.2)\n"
     ]
    }
   ],
   "source": [
    "import sys\n",
    "!{sys.executable} -m pip install python-dotenv"
   ]
  },
  {
   "cell_type": "code",
   "execution_count": 4,
   "id": "af7ad639-4f45-4bbb-b2f9-919e985ea88b",
   "metadata": {},
   "outputs": [],
   "source": [
    "from dotenv import dotenv_values\n",
    "\n",
    "config = dotenv_values(\"../.env\")"
   ]
  },
  {
   "cell_type": "code",
   "execution_count": 18,
   "id": "6ab7a9b9-3c63-4856-a22c-ace40828f23d",
   "metadata": {},
   "outputs": [],
   "source": [
    "%matplotlib inline\n",
    "import boto3\n",
    "import botocore\n",
    "import datetime\n",
    "import matplotlib.pyplot as plt\n",
    "import matplotlib\n",
    "import xarray as xr\n",
    "import numpy as np\n",
    "import s3fs\n",
    "import fsspec\n",
    "\n",
    "import geopandas as gpd"
   ]
  },
  {
   "cell_type": "code",
   "execution_count": 3,
   "id": "8899b4ad-d89b-4b09-a22e-2a87565f1904",
   "metadata": {},
   "outputs": [
    {
     "name": "stderr",
     "output_type": "stream",
     "text": [
      "/srv/conda/envs/notebook/lib/python3.9/site-packages/dask_gateway/client.py:21: FutureWarning: format_bytes is deprecated and will be removed in a future release. Please use dask.utils.format_bytes instead.\n",
      "  from distributed.utils import LoopRunner, format_bytes\n"
     ]
    }
   ],
   "source": [
    "from dask.distributed import Client\n",
    "import dask_gateway\n",
    "\n",
    "gateway = dask_gateway.Gateway()\n",
    "cluster = gateway.new_cluster()"
   ]
  },
  {
   "cell_type": "code",
   "execution_count": 8,
   "id": "2b968459-01cf-4a44-842c-bff62de428ee",
   "metadata": {},
   "outputs": [
    {
     "data": {
      "application/vnd.jupyter.widget-view+json": {
       "model_id": "f8dbac7cca2a4b83942ed498a0fce621",
       "version_major": 2,
       "version_minor": 0
      },
      "text/plain": [
       "VBox(children=(HTML(value='<h2>GatewayCluster</h2>'), HBox(children=(HTML(value='\\n<div>\\n<style scoped>\\n    …"
      ]
     },
     "metadata": {},
     "output_type": "display_data"
    }
   ],
   "source": [
    "cluster.scale(4)\n",
    "client = Client(cluster)\n",
    "cluster"
   ]
  },
  {
   "cell_type": "code",
   "execution_count": 15,
   "id": "0a496ac3-6f4b-4885-bd2c-1b54a289af30",
   "metadata": {},
   "outputs": [],
   "source": [
    "def fix_accum_var_dims(ds, var):\n",
    "    # Some varibles like precip have extra time bounds varibles, we drop them here to allow merging with other variables\n",
    "    \n",
    "    # Select variable of interest (drops dims that are not linked to current variable)\n",
    "    ds = ds[[var]]  \n",
    "\n",
    "    if var in ['air_temperature_at_2_metres',\n",
    "               'dew_point_temperature_at_2_metres',\n",
    "               'air_pressure_at_mean_sea_level',\n",
    "               'northward_wind_at_10_metres',\n",
    "               'eastward_wind_at_10_metres']:\n",
    "        \n",
    "        ds = ds.rename({'time0':'valid_time_end_utc'})\n",
    "        \n",
    "    elif var in ['precipitation_amount_1hour_Accumulation',\n",
    "                 'integral_wrt_time_of_surface_direct_downwelling_shortwave_flux_in_air_1hour_Accumulation']:\n",
    "        \n",
    "        ds = ds.rename({'time1':'valid_time_end_utc'})\n",
    "        \n",
    "    else:\n",
    "        print(\"Warning, Haven't seen {var} varible yet! Time renaming might not work.\".format(var=var))\n",
    "        \n",
    "    return ds\n",
    "\n",
    "@dask.delayed\n",
    "def s3open(path):\n",
    "    fs = s3fs.S3FileSystem(anon=True, default_fill_cache=False, \n",
    "                           config_kwargs = {'max_pool_connections': 20})\n",
    "    return s3fs.S3Map(path, s3=fs)\n",
    "\n",
    "\n",
    "def open_era5_range(start_year, end_year, variables):\n",
    "    ''' Opens ERA5 monthly Zarr files in S3, given a start and end year (all months loaded) and a list of variables'''\n",
    "    \n",
    "    \n",
    "    file_pattern = 'era5-pds/zarr/{year}/{month}/data/{var}.zarr/'\n",
    "    \n",
    "    years = list(np.arange(start_year, end_year+1, 1))\n",
    "    months = [\"01\", \"02\", \"03\", \"04\", \"05\", \"06\", \"07\", \"08\", \"09\", \"10\", \"11\", \"12\"]\n",
    "    \n",
    "    l = []\n",
    "    for var in variables:\n",
    "        print(var)\n",
    "        \n",
    "        \n",
    "        #files_mapper = [s3open(file_pattern.format(year=year, month=month, var=var)) for year in years for month in months]\n",
    "        \n",
    "        # Get files\n",
    "        files_mapper = []\n",
    "        for year in years:\n",
    "            for month in months:\n",
    "                if year == 2021 and month == \"12\":\n",
    "                    continue\n",
    "                else:\n",
    "                    files_mapper.append(s3open(file_pattern.format(year=year, month=month, var=var)))\n",
    "        \n",
    "        # Look up correct time dimension by variable name\n",
    "        if var in ['precipitation_amount_1hour_Accumulation']:\n",
    "            concat_dim='time1'\n",
    "        else:\n",
    "            concat_dim='time0'\n",
    "            \n",
    "        # Lazy load\n",
    "        ds = xr.open_mfdataset(files_mapper, engine='zarr', \n",
    "                               concat_dim=concat_dim, combine='nested', \n",
    "                               coords='minimal', compat='override', parallel=True)\n",
    "        \n",
    "        # Fix dimension names\n",
    "        ds = fix_accum_var_dims(ds, var)\n",
    "        l.append(ds)\n",
    "        \n",
    "    ds_out = xr.merge(l)\n",
    "    \n",
    "    return ds_out"
   ]
  },
  {
   "cell_type": "code",
   "execution_count": 16,
   "id": "16c93a75-c8ac-477f-bbac-c414825c30fb",
   "metadata": {},
   "outputs": [
    {
     "name": "stdout",
     "output_type": "stream",
     "text": [
      "air_temperature_at_2_metres\n",
      "northward_wind_at_10_metres\n",
      "eastward_wind_at_10_metres\n",
      "CPU times: user 942 ms, sys: 47.9 ms, total: 990 ms\n",
      "Wall time: 27 s\n"
     ]
    }
   ],
   "source": [
    "%%time\n",
    "ds = open_era5_range(2019, 2021, [\"air_temperature_at_2_metres\", \"northward_wind_at_10_metres\", \"eastward_wind_at_10_metres\"])"
   ]
  },
  {
   "cell_type": "code",
   "execution_count": 17,
   "id": "d75915cb-48f4-464f-abf0-29a8c405b5b6",
   "metadata": {},
   "outputs": [
    {
     "name": "stdout",
     "output_type": "stream",
     "text": [
      "ds size in GB 318.45\n",
      "\n"
     ]
    },
    {
     "data": {
      "text/plain": [
       "<bound method Dataset.info of <xarray.Dataset>\n",
       "Dimensions:                      (valid_time_end_utc: 25560, lat: 721, lon: 1440)\n",
       "Coordinates:\n",
       "  * lat                          (lat) float32 90.0 89.75 89.5 ... -89.75 -90.0\n",
       "  * lon                          (lon) float32 0.0 0.25 0.5 ... 359.5 359.8\n",
       "  * valid_time_end_utc           (valid_time_end_utc) datetime64[ns] 2019-01-...\n",
       "Data variables:\n",
       "    air_temperature_at_2_metres  (valid_time_end_utc, lat, lon) float32 dask.array<chunksize=(372, 150, 150), meta=np.ndarray>\n",
       "    northward_wind_at_10_metres  (valid_time_end_utc, lat, lon) float32 dask.array<chunksize=(372, 150, 150), meta=np.ndarray>\n",
       "    eastward_wind_at_10_metres   (valid_time_end_utc, lat, lon) float32 dask.array<chunksize=(372, 150, 150), meta=np.ndarray>\n",
       "Attributes:\n",
       "    institution:  ECMWF\n",
       "    source:       Reanalysis\n",
       "    title:        ERA5 forecasts>"
      ]
     },
     "execution_count": 17,
     "metadata": {},
     "output_type": "execute_result"
    }
   ],
   "source": [
    "print('ds size in GB {:0.2f}\\n'.format(ds.nbytes / 1e9))\n",
    "ds.info"
   ]
  },
  {
   "cell_type": "code",
   "execution_count": 56,
   "id": "b6478770-6d15-437e-bf4e-7a380cc23312",
   "metadata": {},
   "outputs": [],
   "source": [
    "gdf = gpd.read_file(gpd.datasets.get_path('naturalearth_lowres'))\n",
    "# filter out France especially because of regions in south america\n",
    "gdf = gdf[(gdf[\"continent\"] == \"Europe\") & (gdf[\"name\"] != \"Russia\") & (gdf[\"name\"] != \"France\")]"
   ]
  },
  {
   "cell_type": "code",
   "execution_count": 57,
   "id": "0b5d3072-6f59-4d76-8558-dd7441fe4c37",
   "metadata": {},
   "outputs": [
    {
     "data": {
      "text/plain": [
       "(-24.326184047939336, 34.91998769788964, 40.080789015469406, 80.65714427359343)"
      ]
     },
     "execution_count": 57,
     "metadata": {},
     "output_type": "execute_result"
    }
   ],
   "source": [
    "west, south, east, north = gdf.total_bounds\n",
    "west, south, east, north"
   ]
  },
  {
   "cell_type": "code",
   "execution_count": 53,
   "id": "4cd349ac-78ca-45a1-9c38-22adf0f9ebbe",
   "metadata": {},
   "outputs": [
    {
     "name": "stdout",
     "output_type": "stream",
     "text": [
      "ds size in GB 9.04\n",
      "\n"
     ]
    },
    {
     "data": {
      "text/plain": [
       "<bound method Dataset.info of <xarray.Dataset>\n",
       "Dimensions:                      (valid_time_end_utc: 25560, lat: 183, lon: 161)\n",
       "Coordinates:\n",
       "  * lat                          (lat) float32 80.5 80.25 80.0 ... 35.25 35.0\n",
       "  * lon                          (lon) float32 0.0 0.25 0.5 ... 39.5 39.75 40.0\n",
       "  * valid_time_end_utc           (valid_time_end_utc) datetime64[ns] 2019-01-...\n",
       "Data variables:\n",
       "    air_temperature_at_2_metres  (valid_time_end_utc, lat, lon) float32 dask.array<chunksize=(372, 112, 150), meta=np.ndarray>\n",
       "    northward_wind_at_10_metres  (valid_time_end_utc, lat, lon) float32 dask.array<chunksize=(372, 112, 150), meta=np.ndarray>\n",
       "    eastward_wind_at_10_metres   (valid_time_end_utc, lat, lon) float32 dask.array<chunksize=(372, 112, 150), meta=np.ndarray>\n",
       "Attributes:\n",
       "    institution:  ECMWF\n",
       "    source:       Reanalysis\n",
       "    title:        ERA5 forecasts>"
      ]
     },
     "execution_count": 53,
     "metadata": {},
     "output_type": "execute_result"
    }
   ],
   "source": [
    "ds_europe = ds.sel({\"lon\": slice(west, east), \"lat\": slice(north, south)})\n",
    "print('ds size in GB {:0.2f}\\n'.format(ds_europe.nbytes / 1e9))\n",
    "ds_europe.info"
   ]
  },
  {
   "cell_type": "code",
   "execution_count": 58,
   "id": "d37152ec-9c3f-45a0-b908-bd0e99163d8a",
   "metadata": {},
   "outputs": [],
   "source": [
    "ds_europe[\"air_temperature_at_2_metres\"] = (ds_europe.air_temperature_at_2_metres - 273.15)\n",
    "ds_europe.air_temperature_at_2_metres.attrs[\"units\"] = \"C\""
   ]
  },
  {
   "cell_type": "code",
   "execution_count": 59,
   "id": "de41381f-7ab1-4def-82fb-4283f1b40399",
   "metadata": {},
   "outputs": [
    {
     "data": {
      "text/plain": [
       "<matplotlib.image.AxesImage at 0x7fd4b52cdeb0>"
      ]
     },
     "execution_count": 59,
     "metadata": {},
     "output_type": "execute_result"
    },
    {
     "data": {
      "image/png": "[encoded data removed]",
      "text/plain": [
       "<Figure size 432x288 with 2 Axes>"
      ]
     },
     "metadata": {
      "needs_background": "light"
     },
     "output_type": "display_data"
    }
   ],
   "source": [
    "ds_europe[\"air_temperature_at_2_metres\"].sel({\"valid_time_end_utc\": \"2019-01-01T00:00:00.000000000\"}).plot.imshow()"
   ]
  },
  {
   "cell_type": "code",
   "execution_count": 8,
   "id": "c2319c9d-cc47-4c17-86ee-83e3dcbd58fe",
   "metadata": {},
   "outputs": [],
   "source": [
    "sfs = s3fs.S3FileSystem(\n",
    "    anon=False,\n",
    "    key=\"gregor\",\n",
    "    secret=config[\"fue_s3_key\"],\n",
    "    client_kwargs={\n",
    "        \"endpoint_url\": \"http://s3.fuecluster.hakom.at:9000\",\n",
    "    }\n",
    ")\n",
    "openfile = sfs.open(\"energy-market-visual-exploration/era5_land_hourly_2020_2021.grib\", mode=\"rb\") "
   ]
  },
  {
   "cell_type": "code",
   "execution_count": null,
   "id": "b9ce4a68-9f57-4bc9-a149-cea113e14b8f",
   "metadata": {},
   "outputs": [],
   "source": [
    "ds = xr.open_dataset(openfile, engine=\"cfgrib\")"
   ]
  },
  {
   "cell_type": "code",
   "execution_count": null,
   "id": "612b3a66-15a0-490e-a188-89358106f1d2",
   "metadata": {},
   "outputs": [],
   "source": []
  }
 ],
 "metadata": {
  "kernelspec": {
   "display_name": "Python 3 (ipykernel)",
   "language": "python",
   "name": "python3"
  },
  "language_info": {
   "codemirror_mode": {
    "name": "ipython",
    "version": 3
   },
   "file_extension": ".py",
   "mimetype": "text/x-python",
   "name": "python",
   "nbconvert_exporter": "python",
   "pygments_lexer": "ipython3",
   "version": "3.9.7"
  }
 },
 "nbformat": 4,
 "nbformat_minor": 5
}
