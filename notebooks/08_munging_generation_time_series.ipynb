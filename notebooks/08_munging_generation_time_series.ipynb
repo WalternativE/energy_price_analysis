{
 "cells": [
  {
   "cell_type": "code",
   "execution_count": null,
   "metadata": {},
   "outputs": [],
   "source": [
    "import sys\n",
    "!{sys.executable} -m pip install seaborn"
   ]
  },
  {
   "cell_type": "code",
   "execution_count": null,
   "metadata": {},
   "outputs": [],
   "source": [
    "from itertools import chain\n",
    "import pandas as pd\n",
    "import numpy as np\n",
    "\n",
    "import holoviews as hv\n",
    "from holoviews import opts\n",
    "import hvplot.pandas\n",
    "import matplotlib.pyplot as plt\n",
    "\n",
    "%matplotlib inline\n",
    "plt.rcParams[\"figure.figsize\"] = (10, 8)\n",
    "\n",
    "import seaborn as sns\n",
    "sns.set_theme(style=\"whitegrid\")"
   ]
  },
  {
   "cell_type": "code",
   "execution_count": null,
   "metadata": {},
   "outputs": [],
   "source": [
    "generation_denmark = pd.read_csv(\"../data/entsoe/generation_denmark_2016_2021.csv\")\n",
    "generation_denmark[\"TimeStamp\"] = pd.to_datetime(generation_denmark[\"TimeStamp\"], utc=True)\n",
    "generation_denmark = generation_denmark.set_index(\"TimeStamp\").resample(\"15min\").ffill().resample(\"1H\").mean()\n",
    "generation_denmark_pre_change = generation_denmark[[c for c in generation_denmark.columns if \"(\" not in c]]\n",
    "generation_lookup_post_change = generation_denmark[[c for c in generation_denmark.columns if (\"(\" in c  and \"Aggregated\" in c)]]\n",
    "rename_dict = dict([(c, c.strip(\"()\").split(\",\")[0].strip(\"'\")) for c in generation_lookup_post_change.columns])\n",
    "generation_denmark_clean = generation_denmark_pre_change.combine_first(generation_lookup_post_change.rename(columns=rename_dict))\n",
    "original_columns = generation_denmark_clean.columns.values\n",
    "generation_denmark_clean[\"Total Generation\"] = generation_denmark_clean[original_columns].sum(axis=1)\n",
    "generation_denmark_clean.head(5)"
   ]
  },
  {
   "cell_type": "code",
   "execution_count": null,
   "metadata": {},
   "outputs": [],
   "source": [
    "generation_denmark_clean.plot(y=original_columns)\n",
    "plt.show()"
   ]
  },
  {
   "cell_type": "code",
   "execution_count": null,
   "metadata": {},
   "outputs": [],
   "source": [
    "generation_austria = pd.read_csv(\"../data/entsoe/generation_austria_2016_2021.csv\")\n",
    "generation_austria[\"TimeStamp\"] = pd.to_datetime(generation_austria[\"TimeStamp\"], utc=True)\n",
    "generation_austria = generation_austria.set_index(\"TimeStamp\").resample(\"15min\").ffill().resample(\"1H\").mean()\n",
    "generation_austria = generation_austria[[c for c in generation_austria.columns if \"Aggregated\" in c]]\n",
    "rename_dict = dict([(c, c.replace(\"Actual Aggregated\", \"\").strip()) for c in generation_austria.columns])\n",
    "generation_austria = generation_austria.rename(columns=rename_dict)\n",
    "original_columns = generation_austria.columns.values\n",
    "generation_austria[\"Total Generation\"] = generation_austria[original_columns].sum(axis=1)\n",
    "generation_austria.head()"
   ]
  },
  {
   "cell_type": "code",
   "execution_count": null,
   "metadata": {},
   "outputs": [],
   "source": [
    "generation_austria.plot(y=original_columns)\n",
    "plt.show()"
   ]
  },
  {
   "cell_type": "code",
   "execution_count": null,
   "metadata": {},
   "outputs": [],
   "source": [
    "generation_germany = pd.read_csv(\"../data/entsoe/generation_germany_2016_2021.csv\")\n",
    "generation_germany[\"TimeStamp\"] = pd.to_datetime(generation_germany[\"TimeStamp\"], utc=True)\n",
    "generation_germany = generation_germany.set_index(\"TimeStamp\").resample(\"15min\").ffill().resample(\"1H\").mean()\n",
    "generation_germany = generation_germany[[c for c in generation_germany.columns if \"Aggregated\" in c]]\n",
    "rename_dict = dict([(c, c.replace(\"Actual Aggregated\", \"\").strip()) for c in generation_germany.columns])\n",
    "generation_germany = generation_germany.rename(columns=rename_dict)\n",
    "original_columns = generation_germany.columns.values\n",
    "generation_germany[\"Total Generation\"] = generation_germany[original_columns].sum(axis=1)\n",
    "generation_germany.head(5)"
   ]
  },
  {
   "cell_type": "code",
   "execution_count": null,
   "metadata": {},
   "outputs": [],
   "source": [
    "generation_germany.plot(y=original_columns)\n",
    "plt.show()"
   ]
  },
  {
   "cell_type": "code",
   "execution_count": null,
   "metadata": {},
   "outputs": [],
   "source": [
    "generation_ireland = pd.read_csv(\"../data/entsoe/generation_ireland_2016_2021.csv\")\n",
    "generation_ireland[\"TimeStamp\"] = pd.to_datetime(generation_ireland[\"TimeStamp\"], utc=True)\n",
    "generation_ireland = generation_ireland.set_index(\"TimeStamp\").resample(\"15min\").ffill().resample(\"1H\").mean()\n",
    "generation_ireland = generation_ireland[[c for c in generation_ireland.columns if \"Aggregated\" in c]]\n",
    "rename_dict = dict([(c, c.replace(\"Actual Aggregated\", \"\").strip()) for c in generation_ireland.columns])\n",
    "generation_ireland = generation_ireland.rename(columns=rename_dict)\n",
    "original_columns = generation_ireland.columns.values\n",
    "generation_ireland[\"Total Generation\"] = generation_ireland[original_columns].sum(axis=1)\n",
    "generation_ireland.head(5)"
   ]
  },
  {
   "cell_type": "code",
   "execution_count": null,
   "metadata": {},
   "outputs": [],
   "source": [
    "generation_ireland.plot(y=original_columns)\n",
    "plt.show()"
   ]
  },
  {
   "cell_type": "code",
   "execution_count": null,
   "metadata": {},
   "outputs": [],
   "source": [
    "generation_portugal = pd.read_csv(\"../data/entsoe/generation_portugal_2016_2021.csv\")\n",
    "generation_portugal[\"TimeStamp\"] = pd.to_datetime(generation_portugal[\"TimeStamp\"], utc=True)\n",
    "generation_portugal = generation_portugal.set_index(\"TimeStamp\").resample(\"15min\").ffill().resample(\"1H\").mean()\n",
    "generation_portugal = generation_portugal[[c for c in generation_portugal.columns if \"Aggregated\" in c]]\n",
    "rename_dict = dict([(c, c.replace(\"Actual Aggregated\", \"\").strip()) for c in generation_portugal.columns])\n",
    "generation_portugal = generation_portugal.rename(columns=rename_dict)\n",
    "original_columns = generation_portugal.columns.values\n",
    "generation_portugal[\"Total Generation\"] = generation_portugal[original_columns].sum(axis=1)\n",
    "generation_portugal.head(5)"
   ]
  },
  {
   "cell_type": "code",
   "execution_count": null,
   "metadata": {},
   "outputs": [],
   "source": [
    "generation_portugal.plot(y=original_columns)\n",
    "plt.show()"
   ]
  },
  {
   "cell_type": "code",
   "execution_count": null,
   "metadata": {},
   "outputs": [],
   "source": [
    "generation_spain = pd.read_csv(\"../data/entsoe/generation_spain_2016_2021.csv\")\n",
    "generation_spain[\"TimeStamp\"] = pd.to_datetime(generation_spain[\"TimeStamp\"], utc=True)\n",
    "generation_spain = generation_spain.set_index(\"TimeStamp\").resample(\"15min\").ffill().resample(\"1H\").mean()\n",
    "generation_spain = generation_spain[[c for c in generation_spain.columns if \"Aggregated\" in c]]\n",
    "rename_dict = dict([(c, c.replace(\"Actual Aggregated\", \"\").strip()) for c in generation_spain.columns])\n",
    "generation_spain = generation_spain.rename(columns=rename_dict)\n",
    "original_columns = generation_spain.columns.values\n",
    "generation_spain[\"Total Generation\"] = generation_spain[original_columns].sum(axis=1)\n",
    "generation_spain.head(5)"
   ]
  },
  {
   "cell_type": "code",
   "execution_count": null,
   "metadata": {},
   "outputs": [],
   "source": [
    "generation_spain.plot(y=original_columns)\n",
    "plt.show()"
   ]
  },
  {
   "cell_type": "code",
   "execution_count": null,
   "metadata": {},
   "outputs": [],
   "source": [
    "generation_sweden = pd.read_csv(\"../data/entsoe/generation_sweden_2016_2021.csv\")\n",
    "generation_sweden[\"TimeStamp\"] = pd.to_datetime(generation_sweden[\"TimeStamp\"], utc=True)\n",
    "generation_sweden = generation_sweden.set_index(\"TimeStamp\").resample(\"15min\").ffill().resample(\"1H\").mean()\n",
    "original_columns = generation_sweden.columns.values\n",
    "generation_sweden[\"Total Generation\"] = generation_sweden[original_columns].sum(axis=1)\n",
    "generation_sweden.head(5)"
   ]
  },
  {
   "cell_type": "code",
   "execution_count": null,
   "metadata": {},
   "outputs": [],
   "source": [
    "generation_sweden.plot(y=original_columns)\n",
    "plt.show()"
   ]
  },
  {
   "cell_type": "code",
   "execution_count": null,
   "metadata": {},
   "outputs": [],
   "source": [
    "generation_uk = pd.read_csv(\"../data/entsoe/generation_uk_2016_2021.csv\")\n",
    "generation_uk[\"TimeStamp\"] = pd.to_datetime(generation_uk[\"TimeStamp\"], utc=True)\n",
    "generation_uk = generation_uk.set_index(\"TimeStamp\").resample(\"15min\").ffill().resample(\"1H\").mean()\n",
    "generation_uk = generation_uk[[c for c in generation_uk.columns if \"Aggregated\" in c]]\n",
    "rename_dict = dict([(c, c.replace(\"Actual Aggregated\", \"\").strip()) for c in generation_uk.columns])\n",
    "generation_uk = generation_uk.rename(columns=rename_dict)\n",
    "original_columns = generation_uk.columns.values\n",
    "generation_uk[\"Total Generation\"] = generation_uk[original_columns].sum(axis=1)\n",
    "generation_uk.head(5)"
   ]
  },
  {
   "cell_type": "code",
   "execution_count": null,
   "metadata": {},
   "outputs": [],
   "source": [
    "generation_uk.plot(y=original_columns)\n",
    "plt.show()"
   ]
  },
  {
   "cell_type": "code",
   "execution_count": null,
   "metadata": {},
   "outputs": [],
   "source": [
    "generation_data_sets = {\n",
    "    \"at\": generation_austria, \"dk\": generation_denmark_clean, \"de\": generation_germany, \"ie\": generation_ireland,\n",
    "    \"pt\": generation_portugal, \"es\": generation_spain, \"se\": generation_sweden, \"uk\": generation_uk\n",
    "}\n",
    "\n",
    "available_set_columns = set(chain(*[v.columns.values for (k, v) in generation_data_sets.items()]))\n",
    "\n",
    "type_separated_data_sets = dict()\n",
    "for set_col in available_set_columns:\n",
    "    series = dict()\n",
    "    for (k, v) in generation_data_sets.items():\n",
    "        if set_col in v.columns:\n",
    "            series[k] = v[set_col]\n",
    "    type_separated_data_sets[set_col] = pd.DataFrame(series)"
   ]
  },
  {
   "cell_type": "code",
   "execution_count": null,
   "metadata": {},
   "outputs": [],
   "source": [
    "plots = [v.hvplot(title=k) for k, v in type_separated_data_sets.items()]\n",
    "hv.Layout(plots).cols(2).opts(norm={\"axiswise\": True})"
   ]
  },
  {
   "cell_type": "code",
   "execution_count": null,
   "metadata": {},
   "outputs": [],
   "source": [
    "for (key, v) in type_separated_data_sets.items():\n",
    "    save_path = f\"../data/entsoe/generation_per_type/{key.lower().replace(' ', '_').replace('/', '_').replace('-', '_')}_2016_2021.csv\"\n",
    "    v.to_csv(save_path, index=True, index_label=\"TimeStamp\")"
   ]
  }
 ],
 "metadata": {
  "interpreter": {
   "hash": "87a6a3d49096a9b6e6b681b59f2e96a8b3d0b5eb8b687b97775e2c1a70eeb327"
  },
  "kernelspec": {
   "display_name": "Python 3 (ipykernel)",
   "language": "python",
   "name": "python3"
  },
  "language_info": {
   "codemirror_mode": {
    "name": "ipython",
    "version": 3
   },
   "file_extension": ".py",
   "mimetype": "text/x-python",
   "name": "python",
   "nbconvert_exporter": "python",
   "pygments_lexer": "ipython3",
   "version": "3.9.7"
  }
 },
 "nbformat": 4,
 "nbformat_minor": 4
}
